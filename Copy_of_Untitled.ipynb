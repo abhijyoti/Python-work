{
  "nbformat": 4,
  "nbformat_minor": 0,
  "metadata": {
    "colab": {
      "name": "Copy of Untitled",
      "provenance": [],
      "collapsed_sections": [],
      "authorship_tag": "ABX9TyN4bQiDQeY1+dYJEcDmQRIU",
      "include_colab_link": true
    },
    "kernelspec": {
      "name": "python3",
      "display_name": "Python 3"
    }
  },
  "cells": [
    {
      "cell_type": "markdown",
      "metadata": {
        "id": "view-in-github",
        "colab_type": "text"
      },
      "source": [
        "<a href=\"https://colab.research.google.com/github/abhijyoti/Python-work/blob/main/Copy_of_Untitled.ipynb\" target=\"_parent\"><img src=\"https://colab.research.google.com/assets/colab-badge.svg\" alt=\"Open In Colab\"/></a>"
      ]
    },
    {
      "cell_type": "markdown",
      "metadata": {
        "id": "DHpEIkOR3uZn"
      },
      "source": [
        "Hello world program"
      ]
    },
    {
      "cell_type": "code",
      "metadata": {
        "id": "1d4XyR1C1qA4",
        "colab": {
          "base_uri": "https://localhost:8080/"
        },
        "outputId": "1c0ef47a-1717-4a4c-aeb3-c7884879ea7c"
      },
      "source": [
        "x=5\n",
        "x='Abhi'\n",
        "print(type(x),x)"
      ],
      "execution_count": null,
      "outputs": [
        {
          "output_type": "stream",
          "text": [
            "<class 'str'> Abhi\n"
          ],
          "name": "stdout"
        }
      ]
    },
    {
      "cell_type": "code",
      "metadata": {
        "colab": {
          "base_uri": "https://localhost:8080/"
        },
        "id": "nOXc2Sq27ls_",
        "outputId": "ed8c50fc-f1dd-48b3-d6ae-1320e6fbc39f"
      },
      "source": [
        "x,y,z=5,'AAAA',0.00023\n",
        "print(type(x),x,type(y),y,type(z),z)"
      ],
      "execution_count": null,
      "outputs": [
        {
          "output_type": "stream",
          "text": [
            "<class 'int'> 5 <class 'str'> AAAA <class 'float'> 0.00023\n"
          ],
          "name": "stdout"
        }
      ]
    },
    {
      "cell_type": "code",
      "metadata": {
        "colab": {
          "base_uri": "https://localhost:8080/"
        },
        "id": "IxvhhDgE-qYs",
        "outputId": "5d7a885f-efec-4f05-e16a-99b4008825d5"
      },
      "source": [
        "x=4\n",
        "y='abhi'\n",
        "c = x + y\n",
        "print(c)"
      ],
      "execution_count": null,
      "outputs": [
        {
          "output_type": "stream",
          "text": [
            "8\n"
          ],
          "name": "stdout"
        }
      ]
    },
    {
      "cell_type": "markdown",
      "metadata": {
        "id": "UIFtJWqwBqIt"
      },
      "source": [
        "#Exercise-1,Exercise-2"
      ]
    },
    {
      "cell_type": "code",
      "metadata": {
        "colab": {
          "base_uri": "https://localhost:8080/"
        },
        "id": "Zif35_MFA-Vo",
        "outputId": "29ab3ef1-eaf1-49bf-a27d-7208758c2119"
      },
      "source": [
        "carname = 'Volvo'\n",
        "print(carname)\n",
        "x=50\n",
        "print(x)"
      ],
      "execution_count": null,
      "outputs": [
        {
          "output_type": "stream",
          "text": [
            "Volvo\n",
            "50\n"
          ],
          "name": "stdout"
        }
      ]
    },
    {
      "cell_type": "markdown",
      "metadata": {
        "id": "T0lucv5tDh7v"
      },
      "source": [
        "#Exercise-3,Exercise-4"
      ]
    },
    {
      "cell_type": "code",
      "metadata": {
        "colab": {
          "base_uri": "https://localhost:8080/"
        },
        "id": "8pTYE8izCkix",
        "outputId": "c303dfcf-2f68-4bb5-c5b8-a95785c8f536"
      },
      "source": [
        "x,y=5,10\n",
        "print(x+y)\n",
        "\n",
        "x,y=11,17\n",
        "z=x+y\n",
        "print(z)"
      ],
      "execution_count": null,
      "outputs": [
        {
          "output_type": "stream",
          "text": [
            "15\n",
            "28\n"
          ],
          "name": "stdout"
        }
      ]
    },
    {
      "cell_type": "code",
      "metadata": {
        "colab": {
          "base_uri": "https://localhost:8080/",
          "height": 195
        },
        "id": "ZTptiE6PEmgq",
        "outputId": "039e94bf-2e7b-41c2-81aa-910f36efb1c6"
      },
      "source": [
        "'''x1 = 'Hello'\n",
        "x2 = 10\n",
        "x3 = 10.2\n",
        "x4 = ['apple','banana','cherry']\n",
        "x5 = ('apple','banana','cherry')\n",
        "x6 = range(6)\n",
        "x7 = {'name':'John','age':18}\n",
        "x8 = {'apple','banana','cherry'}\n",
        "x9 = True'''\n",
        "print(x1,x2,x3,x4,x5,x6,x7,x8,x9,sep=\"\\n\")\n",
        "\n",
        "\n"
      ],
      "execution_count": null,
      "outputs": [
        {
          "output_type": "stream",
          "text": [
            "Hello\n",
            "10\n",
            "10.2\n",
            "['apple', 'banana', 'cherry']\n",
            "('apple', 'banana', 'cherry')\n",
            "range(0, 6)\n",
            "{'name': 'John', 'age': 18}\n",
            "{'banana', 'apple', 'cherry'}\n",
            "True\n"
          ],
          "name": "stdout"
        },
        {
          "output_type": "execute_result",
          "data": {
            "application/vnd.google.colaboratory.intrinsic+json": {
              "type": "string"
            },
            "text/plain": [
              "'print\\nprinty\\nrogedfn\\ngfslsgrs'"
            ]
          },
          "metadata": {
            "tags": []
          },
          "execution_count": 62
        }
      ]
    },
    {
      "cell_type": "code",
      "metadata": {
        "colab": {
          "base_uri": "https://localhost:8080/"
        },
        "id": "W52zgsPdQTwW",
        "outputId": "d8414e2f-5b01-4758-b83f-804d050c9d7c"
      },
      "source": [
        "x = 'jay'\n",
        "print(x)"
      ],
      "execution_count": null,
      "outputs": [
        {
          "output_type": "stream",
          "text": [
            "jay\n"
          ],
          "name": "stdout"
        }
      ]
    },
    {
      "cell_type": "code",
      "metadata": {
        "id": "YzGzS6QGkX_-"
      },
      "source": [
        "''"
      ],
      "execution_count": null,
      "outputs": []
    },
    {
      "cell_type": "code",
      "metadata": {
        "colab": {
          "base_uri": "https://localhost:8080/"
        },
        "id": "V0MachLukMoz",
        "outputId": "66cd78eb-0066-4b2d-e97b-27ecb1cf5b4f"
      },
      "source": [
        "age = 20\n",
        "txt = 'My age is {}'\n",
        "print(txt.format(age))"
      ],
      "execution_count": null,
      "outputs": [
        {
          "output_type": "stream",
          "text": [
            "My age is 20\n"
          ],
          "name": "stdout"
        }
      ]
    },
    {
      "cell_type": "code",
      "metadata": {
        "colab": {
          "base_uri": "https://localhost:8080/"
        },
        "id": "_P3G2U-Q4bi7",
        "outputId": "ca2324ce-dc8f-46c8-bf35-854020f7e0a8"
      },
      "source": [
        "name = 'alvas'\n",
        "print(len(name))\n",
        "print(name[0:4])\n",
        "print(name.upper())\n",
        "print(name + ' college')\n",
        "name = 'alvas {}'\n",
        "b = 'college'\n",
        "print(name.format(b))\n",
        "print(name.isdigit())"
      ],
      "execution_count": null,
      "outputs": [
        {
          "output_type": "stream",
          "text": [
            "5\n",
            "alva\n",
            "ALVAS\n",
            "alvas college\n",
            "alvas college\n",
            "False\n"
          ],
          "name": "stdout"
        }
      ]
    },
    {
      "cell_type": "code",
      "metadata": {
        "colab": {
          "base_uri": "https://localhost:8080/"
        },
        "id": "08VPxKFJ6jjE",
        "outputId": "dfb48245-afb7-4995-a3e0-759f99cd4f2c"
      },
      "source": [
        "print(10>9)\n",
        "print(10==9)\n",
        "print(4 + 5)\n",
        "x= 5\n",
        "x +=3\n",
        "print(x)"
      ],
      "execution_count": null,
      "outputs": [
        {
          "output_type": "stream",
          "text": [
            "True\n",
            "False\n",
            "9\n",
            "8\n"
          ],
          "name": "stdout"
        }
      ]
    },
    {
      "cell_type": "code",
      "metadata": {
        "colab": {
          "base_uri": "https://localhost:8080/"
        },
        "id": "qyuVf2vu86Sa",
        "outputId": "a3405584-58d9-4c26-a77b-4cd562361583"
      },
      "source": [
        "x = 3\n",
        "y = 4\n",
        "print(x != y)"
      ],
      "execution_count": null,
      "outputs": [
        {
          "output_type": "stream",
          "text": [
            "True\n"
          ],
          "name": "stdout"
        }
      ]
    },
    {
      "cell_type": "code",
      "metadata": {
        "colab": {
          "base_uri": "https://localhost:8080/"
        },
        "id": "w8PlQ-Ly90di",
        "outputId": "372baff9-2983-4935-e585-d30ecf87ae2d"
      },
      "source": [
        "a = int(input('Enter the value of a '))\n",
        "b = int(input('Enter the value of b '))\n",
        "print('S4um = ',a + b)\n",
        "print('Sub = ',a - b)\n",
        "print('M =',a * b)\n",
        "print('D =',a / b)\n",
        "print('P = ',a % b)"
      ],
      "execution_count": null,
      "outputs": [
        {
          "output_type": "stream",
          "text": [
            "Enter the value of a 3\n",
            "Enter the value of b 5\n",
            "S4um =  8\n",
            "Sub =  -2\n",
            "M = 15\n",
            "D = 0.6\n",
            "P =  3\n"
          ],
          "name": "stdout"
        }
      ]
    },
    {
      "cell_type": "code",
      "metadata": {
        "colab": {
          "base_uri": "https://localhost:8080/"
        },
        "id": "VjTU9nNDFOOU",
        "outputId": "2b31dba1-2df8-4f7f-b411-29546e139464"
      },
      "source": [
        "l = list(('CSE','ISE','ECE','CIV','MECH'))\n",
        "print(l)\n",
        "print(l[:3])\n",
        "print(l[-3:])"
      ],
      "execution_count": null,
      "outputs": [
        {
          "output_type": "stream",
          "text": [
            "['CSE', 'ISE', 'ECE', 'CIV', 'MECH']\n",
            "['CSE', 'ISE', 'ECE']\n",
            "['ECE', 'CIV', 'MECH']\n"
          ],
          "name": "stdout"
        }
      ]
    },
    {
      "cell_type": "code",
      "metadata": {
        "colab": {
          "base_uri": "https://localhost:8080/"
        },
        "id": "kbEDAEbuFoBW",
        "outputId": "4e0142b6-5ae6-4c19-b58f-4db43869c018"
      },
      "source": [
        "a = ['Apple','banana','cherry']\n",
        "b = ['mango','papaya']\n",
        "\n",
        "c = a + b\n",
        "a.append('Grapes')\n",
        "a.extend(b)\n",
        "print(a)"
      ],
      "execution_count": null,
      "outputs": [
        {
          "output_type": "stream",
          "text": [
            "['Apple', 'banana', 'cherry', 'Grapes', 'mango', 'papaya']\n"
          ],
          "name": "stdout"
        }
      ]
    },
    {
      "cell_type": "code",
      "metadata": {
        "colab": {
          "base_uri": "https://localhost:8080/"
        },
        "id": "8iJg_7shKalb",
        "outputId": "10c1229d-68bc-40f0-f141-3fde301da84b"
      },
      "source": [
        "a = ['apple','cherry']\n",
        "b = ['apple']\n",
        "c = a + b\n",
        "print(c)"
      ],
      "execution_count": null,
      "outputs": [
        {
          "output_type": "stream",
          "text": [
            "['apple', 'cherry', 'apple']\n"
          ],
          "name": "stdout"
        }
      ]
    },
    {
      "cell_type": "code",
      "metadata": {
        "colab": {
          "base_uri": "https://localhost:8080/"
        },
        "id": "QUdkXxvxK8mv",
        "outputId": "68e9607f-19b0-4dd4-c1a2-bb78f4d50313"
      },
      "source": [
        "a = [100,54,85,12,96]\n",
        "a.sort(reverse = True)\n",
        "print(a)"
      ],
      "execution_count": null,
      "outputs": [
        {
          "output_type": "stream",
          "text": [
            "[100, 96, 85, 54, 12]\n"
          ],
          "name": "stdout"
        }
      ]
    },
    {
      "cell_type": "code",
      "metadata": {
        "colab": {
          "base_uri": "https://localhost:8080/"
        },
        "id": "djOhyQ_CM3WT",
        "outputId": "6bf2fa4d-e79b-439b-ebb4-ce6f24f92493"
      },
      "source": [
        "age = ['abhi','opps','deeed']\n",
        "a = [100,54,85,12,96]\n",
        "age.extend(a)\n",
        "print(age)"
      ],
      "execution_count": null,
      "outputs": [
        {
          "output_type": "stream",
          "text": [
            "['abhi', 'opps', 'deeed', 100, 54, 85, 12, 96]\n"
          ],
          "name": "stdout"
        }
      ]
    },
    {
      "cell_type": "code",
      "metadata": {
        "colab": {
          "base_uri": "https://localhost:8080/"
        },
        "id": "Ac-w4nL4Od4v",
        "outputId": "d1835ef2-1bb2-4309-f181-6bbf9efb913d"
      },
      "source": [
        "age = [1,2,3,6]\n",
        "age.append(9)\n",
        "print(age)\n",
        "del age[2]\n",
        "print(age)\n",
        "print(age.count(3))"
      ],
      "execution_count": null,
      "outputs": [
        {
          "output_type": "stream",
          "text": [
            "[1, 2, 3, 6, 9]\n",
            "[1, 2, 6, 9]\n",
            "0\n"
          ],
          "name": "stdout"
        }
      ]
    },
    {
      "cell_type": "code",
      "metadata": {
        "colab": {
          "base_uri": "https://localhost:8080/"
        },
        "id": "iEia0NUqRLGV",
        "outputId": "a2be0b1e-5eeb-4c11-e3a2-a39d1749c9ce"
      },
      "source": [
        "x = ('abhi','opps','deeed')\n",
        "print(type(x))\n",
        "y=list(x)\n",
        "y[1]='kiwi'\n",
        "x = tuple(y)\n",
        "print(y)"
      ],
      "execution_count": null,
      "outputs": [
        {
          "output_type": "stream",
          "text": [
            "<class 'tuple'>\n",
            "['abhi', 'kiwi', 'deeed']\n"
          ],
          "name": "stdout"
        }
      ]
    },
    {
      "cell_type": "code",
      "metadata": {
        "colab": {
          "base_uri": "https://localhost:8080/"
        },
        "id": "r82ht14oSEFk",
        "outputId": "3273af04-0946-4328-f36f-92fd1558f770"
      },
      "source": [
        "fruit= ('apple','banana','cherry')\n",
        "x = list(fruit)\n",
        "x.append('been')\n",
        "y = tuple(fruit)\n",
        "print(y)\n",
        "print(x)"
      ],
      "execution_count": null,
      "outputs": [
        {
          "output_type": "stream",
          "text": [
            "('apple', 'banana', 'cherry')\n",
            "['apple', 'banana', 'cherry', 'been']\n"
          ],
          "name": "stdout"
        }
      ]
    },
    {
      "cell_type": "markdown",
      "metadata": {
        "id": "EvHZ-bqB-r3F"
      },
      "source": [
        "#ASSIGNMENT-1"
      ]
    },
    {
      "cell_type": "code",
      "metadata": {
        "id": "uJuX24Pk72NL",
        "colab": {
          "base_uri": "https://localhost:8080/"
        },
        "outputId": "521dad26-42a5-45f0-8195-847452397efe"
      },
      "source": [
        "student = []\n",
        "student.append(input(\"Enter your name: \"))\n",
        "print(student)\n",
        "student.append(input(\"Enter your USN: \"))\n",
        "print(student)\n",
        "branch = input(\"Enter your Branch: \")\n",
        "phno = int(input(\"Enter your mobile number: \"))\n",
        "sec = input(\"Enter your section: \")\n",
        "student.append(branch)\n",
        "student.append(phno)\n",
        "student.append(sec)\n",
        "print(student)\n",
        "student.reverse()\n",
        "print(student)"
      ],
      "execution_count": null,
      "outputs": [
        {
          "output_type": "stream",
          "text": [
            "Enter your name: abhi\n",
            "['abhi']\n",
            "Enter your USN: 001\n",
            "['abhi', '001']\n",
            "Enter your Branch: CSE\n",
            "Enter your mobile number: 8073913221\n",
            "Enter your section: A\n",
            "['abhi', '001', 'CSE', 8073913221, 'A']\n",
            "['A', 8073913221, 'CSE', '001', 'abhi']\n"
          ],
          "name": "stdout"
        }
      ]
    },
    {
      "cell_type": "markdown",
      "metadata": {
        "id": "fcR_BmfB-yi_"
      },
      "source": [
        "#DAY-2-WORKSHOP"
      ]
    },
    {
      "cell_type": "code",
      "metadata": {
        "colab": {
          "base_uri": "https://localhost:8080/"
        },
        "id": "mZuNMMfw-x5e",
        "outputId": "f91fcc7f-4ca1-429c-9f1d-f7cb760bb590"
      },
      "source": [
        "numbers = {2,3,4,5}\n",
        "print(numbers)\n",
        "a = set(('ece','cse','ise'))\n",
        "print(a)\n",
        "a.add('civ')\n",
        "print(a)\n",
        "print(len(a))\n",
        "a.add('cse')\n",
        "print(a)\n",
        "a.remove('civ')\n",
        "print(a)\n",
        "a.pop()\n",
        "print(a)\n",
        "a.add('cse')\n",
        "print(a)\n",
        "d = a.pop()\n",
        "print(d)\n",
        "a = {'aa','bb','cc'}\n",
        "a.clear()\n",
        "print(a)\n",
        "del a\n",
        "x = {'a','b','c'}\n",
        "y = {1,2,3}\n",
        "z = x.union(y)\n",
        "print(z)"
      ],
      "execution_count": null,
      "outputs": [
        {
          "output_type": "stream",
          "text": [
            "{2, 3, 4, 5}\n",
            "{'cse', 'ise', 'ece'}\n",
            "{'cse', 'ise', 'ece', 'civ'}\n",
            "4\n",
            "{'cse', 'ise', 'ece', 'civ'}\n",
            "{'cse', 'ise', 'ece'}\n",
            "{'ise', 'ece'}\n",
            "{'cse', 'ise', 'ece'}\n",
            "ise\n",
            "set()\n",
            "{'a', 1, 2, 3, 'b', 'c'}\n"
          ],
          "name": "stdout"
        }
      ]
    },
    {
      "cell_type": "code",
      "metadata": {
        "colab": {
          "base_uri": "https://localhost:8080/"
        },
        "id": "Ub4Frhj7Epq0",
        "outputId": "cf4670db-4f18-4b25-9d70-cbc50965daad"
      },
      "source": [
        "a = {1,2,3}\n",
        "b = {4,6,5,6}\n",
        "a.update(b)\n",
        "print(a)"
      ],
      "execution_count": null,
      "outputs": [
        {
          "output_type": "stream",
          "text": [
            "{1, 2, 3, 4, 5, 6}\n"
          ],
          "name": "stdout"
        }
      ]
    },
    {
      "cell_type": "code",
      "metadata": {
        "colab": {
          "base_uri": "https://localhost:8080/"
        },
        "id": "nmj-3w6uFXUl",
        "outputId": "f165efac-8bab-47b6-c296-aa3f32313f92"
      },
      "source": [
        "a =[1,2,3,4]\n",
        "s = set(a)\n",
        "print(s)\n",
        "print(type(s))"
      ],
      "execution_count": null,
      "outputs": [
        {
          "output_type": "stream",
          "text": [
            "{1, 2, 3, 4}\n",
            "<class 'set'>\n"
          ],
          "name": "stdout"
        }
      ]
    },
    {
      "cell_type": "code",
      "metadata": {
        "colab": {
          "base_uri": "https://localhost:8080/"
        },
        "id": "sc2BdPuLF1Cf",
        "outputId": "5c321b5b-9ecf-4dc5-faee-37a5663dbf2f"
      },
      "source": [
        "fruits = {'apple','bananan'}\n",
        "fruits.add('orange')\n",
        "print(fruits)\n",
        "m_fruit = ['grpes','mango']\n",
        "fruits.update(m_fruit)\n",
        "print(fruits)\n",
        "fruits.remove('bananan')\n",
        "print(fruits)"
      ],
      "execution_count": null,
      "outputs": [
        {
          "output_type": "stream",
          "text": [
            "{'apple', 'bananan', 'orange'}\n",
            "{'grpes', 'mango', 'apple', 'bananan', 'orange'}\n",
            "{'grpes', 'mango', 'apple', 'orange'}\n"
          ],
          "name": "stdout"
        }
      ]
    },
    {
      "cell_type": "code",
      "metadata": {
        "colab": {
          "base_uri": "https://localhost:8080/"
        },
        "id": "chxrUOlOIcTw",
        "outputId": "4e9188f9-0099-41aa-c08e-b191cc98d461"
      },
      "source": [
        "a = [1,2,1,2,3]\n",
        "print(len(set(a)))"
      ],
      "execution_count": null,
      "outputs": [
        {
          "output_type": "stream",
          "text": [
            "3\n"
          ],
          "name": "stdout"
        }
      ]
    },
    {
      "cell_type": "code",
      "metadata": {
        "colab": {
          "base_uri": "https://localhost:8080/"
        },
        "id": "zvUt2SofJo1j",
        "outputId": "4e6ac182-8ad1-4d01-d08f-8f2bdcdec85e"
      },
      "source": [
        "today =  {\n",
        "    'day' : 'tursday',\n",
        "    'date' : '07/01/2021',\n",
        "    'month' : 'Jan'\n",
        "}\n",
        "print(today)"
      ],
      "execution_count": null,
      "outputs": [
        {
          "output_type": "stream",
          "text": [
            "{'day': 'tursday', 'date': '07/01/2021', 'month': 'Jan'}\n"
          ],
          "name": "stdout"
        }
      ]
    },
    {
      "cell_type": "code",
      "metadata": {
        "colab": {
          "base_uri": "https://localhost:8080/"
        },
        "id": "81_79CZyKV-W",
        "outputId": "543a5a4f-d7fb-460c-8308-f604c333f9d8"
      },
      "source": [
        "car = {\n",
        "    'BRAND':'audi',\n",
        "    'model':'R8',\n",
        "    'price':'2.30 crores',\n",
        "    'BRAND':'Rolls Royce',\n",
        "    'model':'ghost',\n",
        "    'price':'6.95 crores'\n",
        "}\n",
        "x = car.keys()\n",
        "print(car)\n",
        "print(x)\n",
        "car['color'] = 'black'\n",
        "print(car)\n",
        "car.pop('model')\n",
        "print(car)\n",
        "car.add('model')\n",
        "print(car)\n"
      ],
      "execution_count": null,
      "outputs": [
        {
          "output_type": "stream",
          "text": [
            "{'BRAND': 'Rolls Royce', 'model': 'ghost', 'price': '6.95 crores'}\n",
            "dict_keys(['BRAND', 'model', 'price'])\n"
          ],
          "name": "stdout"
        }
      ]
    },
    {
      "cell_type": "code",
      "metadata": {
        "colab": {
          "base_uri": "https://localhost:8080/"
        },
        "id": "B-D-34OwNRXq",
        "outputId": "7d088427-3fce-411e-85ef-f6bf0f5d3809"
      },
      "source": [
        "car = {\n",
        "    'BRAND':'audi',\n",
        "    'model':'R8',\n",
        "    'price':'2.30 crores',\n",
        "    'BRAND':'Rolls Royce',\n",
        "    'model':'ghost',\n",
        "    'price':'6.95 crores'\n",
        "}\n",
        "car.get('BRAND')\n",
        "car['model'] = 'pantom'\n",
        "print(car)"
      ],
      "execution_count": null,
      "outputs": [
        {
          "output_type": "stream",
          "text": [
            "{'BRAND': 'Rolls Royce', 'model': 'pantom', 'price': '6.95 crores'}\n"
          ],
          "name": "stdout"
        }
      ]
    },
    {
      "cell_type": "code",
      "metadata": {
        "colab": {
          "base_uri": "https://localhost:8080/"
        },
        "id": "iO1t8SeQSltp",
        "outputId": "dd6021a6-c73c-4a4a-e46e-e2a0605cb1b6"
      },
      "source": [
        "a,b = 10,20\n",
        "if a > b:\n",
        "    print('b is greater then a')\n",
        "else:\n",
        "    print('a is greater')"
      ],
      "execution_count": null,
      "outputs": [
        {
          "output_type": "stream",
          "text": [
            "a is greater\n"
          ],
          "name": "stdout"
        }
      ]
    },
    {
      "cell_type": "code",
      "metadata": {
        "colab": {
          "base_uri": "https://localhost:8080/"
        },
        "id": "WQZHasMnbZGM",
        "outputId": "7289b464-1587-487d-ffb4-aaeacf886582"
      },
      "source": [
        "\n",
        "a = input('enter A value ')\n",
        "b = input('enter b value ')\n",
        "c = input('enter c value ')\n",
        "if (a > b and a > c):\n",
        "  print('a is greater')\n",
        "elif (b > c and b > a):\n",
        "  print('b is greater')\n",
        "else:\n",
        "  print('c is greater')"
      ],
      "execution_count": 76,
      "outputs": [
        {
          "output_type": "stream",
          "text": [
            "enter A value 20\n",
            "enter b value 30\n",
            "enter c value 40\n",
            "c is greater\n"
          ],
          "name": "stdout"
        }
      ]
    },
    {
      "cell_type": "code",
      "metadata": {
        "colab": {
          "base_uri": "https://localhost:8080/",
          "height": 35
        },
        "id": "5lE4rYYTemHn",
        "outputId": "a54dd0f3-a25c-494a-936a-d5ab3e5f1358"
      },
      "source": [
        "max(a,b,c)"
      ],
      "execution_count": 78,
      "outputs": [
        {
          "output_type": "execute_result",
          "data": {
            "application/vnd.google.colaboratory.intrinsic+json": {
              "type": "string"
            },
            "text/plain": [
              "'40'"
            ]
          },
          "metadata": {
            "tags": []
          },
          "execution_count": 78
        }
      ]
    },
    {
      "cell_type": "code",
      "metadata": {
        "colab": {
          "base_uri": "https://localhost:8080/"
        },
        "id": "hZkxbUiAfUTX",
        "outputId": "8f7261b9-a7f0-4b1e-df13-3fba70aae553"
      },
      "source": [
        "i = 0\n",
        "while i < 6:\n",
        "  i += 1\n",
        "  if i == 3:\n",
        "    continue\n",
        "  print(i)\n"
      ],
      "execution_count": 85,
      "outputs": [
        {
          "output_type": "stream",
          "text": [
            "1\n",
            "2\n",
            "4\n",
            "5\n",
            "6\n"
          ],
          "name": "stdout"
        }
      ]
    },
    {
      "cell_type": "code",
      "metadata": {
        "colab": {
          "base_uri": "https://localhost:8080/"
        },
        "id": "Ed9ctA6UhEze",
        "outputId": "cda2a77c-c917-422d-d0c6-8d3ff0c8ba9d"
      },
      "source": [
        "a = int(input(\"enter any no's \"))\n",
        "i = 0\n",
        "s = 0\n",
        "while i <= a:\n",
        "  s = s + i\n",
        "  i +=1\n",
        "print(s)"
      ],
      "execution_count": 93,
      "outputs": [
        {
          "output_type": "stream",
          "text": [
            "enter any no's 5\n",
            "15\n"
          ],
          "name": "stdout"
        }
      ]
    },
    {
      "cell_type": "code",
      "metadata": {
        "colab": {
          "base_uri": "https://localhost:8080/"
        },
        "id": "_D6cI615mC4G",
        "outputId": "7e41711e-9b2b-41e9-84b7-afffedc6e0c0"
      },
      "source": [
        "a = ['apple','banana','papaya']\n",
        "for x in a:\n",
        "  print(x)"
      ],
      "execution_count": 95,
      "outputs": [
        {
          "output_type": "stream",
          "text": [
            "apple\n",
            "banana\n",
            "papaya\n"
          ],
          "name": "stdout"
        }
      ]
    },
    {
      "cell_type": "code",
      "metadata": {
        "colab": {
          "base_uri": "https://localhost:8080/"
        },
        "id": "wDtrIJmsnPP8",
        "outputId": "0d33b5d0-5aea-41fe-d087-90c4b89c8d44"
      },
      "source": [
        "for x in 'apple':\n",
        "  print(x)"
      ],
      "execution_count": 97,
      "outputs": [
        {
          "output_type": "stream",
          "text": [
            "a\n",
            "p\n",
            "p\n",
            "l\n",
            "e\n"
          ],
          "name": "stdout"
        }
      ]
    },
    {
      "cell_type": "code",
      "metadata": {
        "colab": {
          "base_uri": "https://localhost:8080/"
        },
        "id": "Fa1lWoDJnXRW",
        "outputId": "77cf1baf-f51d-40df-b2e2-5d22742d87b5"
      },
      "source": [
        "for x in range (3,30,2):\n",
        "  print(x)"
      ],
      "execution_count": 103,
      "outputs": [
        {
          "output_type": "stream",
          "text": [
            "3\n",
            "5\n",
            "7\n",
            "9\n",
            "11\n",
            "13\n",
            "15\n",
            "17\n",
            "19\n",
            "21\n",
            "23\n",
            "25\n",
            "27\n",
            "29\n"
          ],
          "name": "stdout"
        }
      ]
    },
    {
      "cell_type": "code",
      "metadata": {
        "colab": {
          "base_uri": "https://localhost:8080/"
        },
        "id": "h7WAERqOn5M9",
        "outputId": "d9c06bab-5ff8-4c74-9bd9-aadb2fc85178"
      },
      "source": [
        "a = ['red','blue','tasty']\n",
        "b = ['apple','banana','papaya']\n",
        "for x in a:\n",
        "  for y in b:\n",
        "    print(x,y)"
      ],
      "execution_count": 104,
      "outputs": [
        {
          "output_type": "stream",
          "text": [
            "red apple\n",
            "red banana\n",
            "red papaya\n",
            "blue apple\n",
            "blue banana\n",
            "blue papaya\n",
            "tasty apple\n",
            "tasty banana\n",
            "tasty papaya\n"
          ],
          "name": "stdout"
        }
      ]
    },
    {
      "cell_type": "code",
      "metadata": {
        "colab": {
          "base_uri": "https://localhost:8080/",
          "height": 254
        },
        "id": "suP8OJhgomX1",
        "outputId": "400e55ad-f420-46e2-cb9a-a8afc08d84db"
      },
      "source": [
        "x = int(input('Enter x '))\n",
        "even = [],odd = []\n",
        "for i in range(1,x+1,2):\n",
        "  #if i % 2 == 0:\n",
        "  even.append(i)  \n",
        "  #else:\n",
        "for i in range(1,x-1,2):\n",
        "  odd.append(i + 1)\n",
        "print('odd =',odd,'even = ',even)\n",
        "#print(even)"
      ],
      "execution_count": 133,
      "outputs": [
        {
          "output_type": "stream",
          "text": [
            "Enter x 10\n"
          ],
          "name": "stdout"
        },
        {
          "output_type": "error",
          "ename": "ValueError",
          "evalue": "ignored",
          "traceback": [
            "\u001b[0;31m---------------------------------------------------------------------------\u001b[0m",
            "\u001b[0;31mValueError\u001b[0m                                Traceback (most recent call last)",
            "\u001b[0;32m<ipython-input-133-1d6ae9e2f9ef>\u001b[0m in \u001b[0;36m<module>\u001b[0;34m()\u001b[0m\n\u001b[1;32m      1\u001b[0m \u001b[0mx\u001b[0m \u001b[0;34m=\u001b[0m \u001b[0mint\u001b[0m\u001b[0;34m(\u001b[0m\u001b[0minput\u001b[0m\u001b[0;34m(\u001b[0m\u001b[0;34m'Enter x '\u001b[0m\u001b[0;34m)\u001b[0m\u001b[0;34m)\u001b[0m\u001b[0;34m\u001b[0m\u001b[0;34m\u001b[0m\u001b[0m\n\u001b[0;32m----> 2\u001b[0;31m \u001b[0meven\u001b[0m \u001b[0;34m=\u001b[0m \u001b[0;34m[\u001b[0m\u001b[0;34m]\u001b[0m\u001b[0;34m,\u001b[0m\u001b[0modd\u001b[0m \u001b[0;34m=\u001b[0m \u001b[0;34m[\u001b[0m\u001b[0;34m]\u001b[0m\u001b[0;34m\u001b[0m\u001b[0;34m\u001b[0m\u001b[0m\n\u001b[0m\u001b[1;32m      3\u001b[0m \u001b[0;32mfor\u001b[0m \u001b[0mi\u001b[0m \u001b[0;32min\u001b[0m \u001b[0mrange\u001b[0m\u001b[0;34m(\u001b[0m\u001b[0;36m1\u001b[0m\u001b[0;34m,\u001b[0m\u001b[0mx\u001b[0m\u001b[0;34m+\u001b[0m\u001b[0;36m1\u001b[0m\u001b[0;34m,\u001b[0m\u001b[0;36m2\u001b[0m\u001b[0;34m)\u001b[0m\u001b[0;34m:\u001b[0m\u001b[0;34m\u001b[0m\u001b[0;34m\u001b[0m\u001b[0m\n\u001b[1;32m      4\u001b[0m   \u001b[0;31m#if i % 2 == 0:\u001b[0m\u001b[0;34m\u001b[0m\u001b[0;34m\u001b[0m\u001b[0;34m\u001b[0m\u001b[0m\n\u001b[1;32m      5\u001b[0m   \u001b[0meven\u001b[0m\u001b[0;34m.\u001b[0m\u001b[0mappend\u001b[0m\u001b[0;34m(\u001b[0m\u001b[0mi\u001b[0m\u001b[0;34m)\u001b[0m\u001b[0;34m\u001b[0m\u001b[0;34m\u001b[0m\u001b[0m\n",
            "\u001b[0;31mValueError\u001b[0m: not enough values to unpack (expected 2, got 0)"
          ]
        }
      ]
    },
    {
      "cell_type": "code",
      "metadata": {
        "colab": {
          "base_uri": "https://localhost:8080/"
        },
        "id": "GIXZJNK8u5pw",
        "outputId": "a902cf0f-1e70-4110-a7f3-2338120fe33d"
      },
      "source": [
        "a = []\n",
        "for i in range (1,21):\n",
        "    a.append(i)\n",
        "print(a)"
      ],
      "execution_count": 138,
      "outputs": [
        {
          "output_type": "stream",
          "text": [
            "[1, 2, 3, 4, 5, 6, 7, 8, 9, 10, 11, 12, 13, 14, 15, 16, 17, 18, 19, 20]\n"
          ],
          "name": "stdout"
        }
      ]
    },
    {
      "cell_type": "code",
      "metadata": {
        "colab": {
          "base_uri": "https://localhost:8080/"
        },
        "id": "oH7Vq0PMClLx",
        "outputId": "af1acad7-9951-46dd-c34e-c9abb401a5ac"
      },
      "source": [
        "a = [i for i in range(1,21)]\n",
        "print(a)"
      ],
      "execution_count": 141,
      "outputs": [
        {
          "output_type": "stream",
          "text": [
            "[1, 2, 3, 4, 5, 6, 7, 8, 9, 10, 11, 12, 13, 14, 15, 16, 17, 18, 19, 20]\n"
          ],
          "name": "stdout"
        }
      ]
    },
    {
      "cell_type": "code",
      "metadata": {
        "colab": {
          "base_uri": "https://localhost:8080/"
        },
        "id": "kvLKIM1XC59l",
        "outputId": "b16116fe-22d6-4529-8d06-c0dc8afc7266"
      },
      "source": [
        "a = [i*i for i in range(1,11)]\n",
        "print(a)"
      ],
      "execution_count": 155,
      "outputs": [
        {
          "output_type": "stream",
          "text": [
            "[1, 4, 9, 16, 25, 36, 49, 64, 81, 100, 121, 144, 169, 196, 225, 256, 289, 324, 361, 400]\n"
          ],
          "name": "stdout"
        }
      ]
    },
    {
      "cell_type": "code",
      "metadata": {
        "colab": {
          "base_uri": "https://localhost:8080/"
        },
        "id": "DfVRbT5iDXUo",
        "outputId": "c6dbbf6f-6240-498f-9171-c3d744d48d5c"
      },
      "source": [
        "x = [i for i in range(1,21) if i%2==0]\n",
        "print(x)"
      ],
      "execution_count": 151,
      "outputs": [
        {
          "output_type": "stream",
          "text": [
            "[2, 4, 6, 8, 10, 12, 14, 16, 18, 20]\n"
          ],
          "name": "stdout"
        }
      ]
    },
    {
      "cell_type": "code",
      "metadata": {
        "colab": {
          "base_uri": "https://localhost:8080/"
        },
        "id": "XqJQV1iyErn7",
        "outputId": "68a1bd02-90e4-45d4-d803-63c7c969fbfc"
      },
      "source": [
        "m=[1,1,2,3]\n",
        "print(all(m))"
      ],
      "execution_count": 153,
      "outputs": [
        {
          "output_type": "stream",
          "text": [
            "True\n"
          ],
          "name": "stdout"
        }
      ]
    },
    {
      "cell_type": "code",
      "metadata": {
        "colab": {
          "base_uri": "https://localhost:8080/"
        },
        "id": "Oe5M3YpQHPNg",
        "outputId": "5266bd56-6ff7-4748-a78f-388c6bec36bc"
      },
      "source": [
        "a = [i*i for i in range(1,21)]\n",
        "print(a)"
      ],
      "execution_count": 156,
      "outputs": [
        {
          "output_type": "stream",
          "text": [
            "[1, 4, 9, 16, 25, 36, 49, 64, 81, 100, 121, 144, 169, 196, 225, 256, 289, 324, 361, 400]\n"
          ],
          "name": "stdout"
        }
      ]
    },
    {
      "cell_type": "code",
      "metadata": {
        "colab": {
          "base_uri": "https://localhost:8080/"
        },
        "id": "UwSXu69RQDcU",
        "outputId": "f771e05f-b2f4-412a-97ba-28398a76a29a"
      },
      "source": [
        "a = [i**2 for i in range(1,26) if i*i <= 25]\n",
        "print(a)"
      ],
      "execution_count": 162,
      "outputs": [
        {
          "output_type": "stream",
          "text": [
            "[1, 4, 9, 16, 25]\n"
          ],
          "name": "stdout"
        }
      ]
    },
    {
      "cell_type": "code",
      "metadata": {
        "colab": {
          "base_uri": "https://localhost:8080/"
        },
        "id": "3pEfAZrURGDO",
        "outputId": "4ffb831a-40f4-4f17-e9cb-7cd231fcefd1"
      },
      "source": [
        "def fun(fname):\n",
        "  print(fname + 'ref')\n",
        "fun('jack')\n",
        "fun('emil')\n"
      ],
      "execution_count": 166,
      "outputs": [
        {
          "output_type": "stream",
          "text": [
            "jackref\n",
            "emilref\n"
          ],
          "name": "stdout"
        }
      ]
    },
    {
      "cell_type": "code",
      "metadata": {
        "colab": {
          "base_uri": "https://localhost:8080/"
        },
        "id": "sm7fSpr_XG5c",
        "outputId": "06c7dfe4-d924-40ba-87bb-078fc968ec03"
      },
      "source": [
        "def fun(a,b=3):\n",
        "  return a+b+str(3)\n",
        "z=fun('jack','Jill')\n",
        "print(z)"
      ],
      "execution_count": 172,
      "outputs": [
        {
          "output_type": "stream",
          "text": [
            "jackJill3\n"
          ],
          "name": "stdout"
        }
      ]
    },
    {
      "cell_type": "code",
      "metadata": {
        "id": "8WHbsTtwX1y1"
      },
      "source": [
        ""
      ],
      "execution_count": null,
      "outputs": []
    }
  ]
}