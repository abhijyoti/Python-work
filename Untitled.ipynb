{
  "nbformat": 4,
  "nbformat_minor": 0,
  "metadata": {
    "colab": {
      "name": "Untitled",
      "provenance": [],
      "collapsed_sections": [],
      "authorship_tag": "ABX9TyOfY9xr1UGMxVOcaYHItq2K",
      "include_colab_link": true
    },
    "kernelspec": {
      "name": "python3",
      "display_name": "Python 3"
    }
  },
  "cells": [
    {
      "cell_type": "markdown",
      "metadata": {
        "id": "view-in-github",
        "colab_type": "text"
      },
      "source": [
        "<a href=\"https://colab.research.google.com/github/abhijyoti/Python-work/blob/main/Untitled.ipynb\" target=\"_parent\"><img src=\"https://colab.research.google.com/assets/colab-badge.svg\" alt=\"Open In Colab\"/></a>"
      ]
    },
    {
      "cell_type": "markdown",
      "metadata": {
        "id": "DHpEIkOR3uZn"
      },
      "source": [
        "Hello world program"
      ]
    },
    {
      "cell_type": "code",
      "metadata": {
        "id": "1d4XyR1C1qA4",
        "colab": {
          "base_uri": "https://localhost:8080/"
        },
        "outputId": "1c0ef47a-1717-4a4c-aeb3-c7884879ea7c"
      },
      "source": [
        "x=5\n",
        "x='Abhi'\n",
        "print(type(x),x)"
      ],
      "execution_count": null,
      "outputs": [
        {
          "output_type": "stream",
          "text": [
            "<class 'str'> Abhi\n"
          ],
          "name": "stdout"
        }
      ]
    },
    {
      "cell_type": "code",
      "metadata": {
        "colab": {
          "base_uri": "https://localhost:8080/"
        },
        "id": "nOXc2Sq27ls_",
        "outputId": "ed8c50fc-f1dd-48b3-d6ae-1320e6fbc39f"
      },
      "source": [
        "x,y,z=5,'AAAA',0.00023\n",
        "print(type(x),x,type(y),y,type(z),z)"
      ],
      "execution_count": null,
      "outputs": [
        {
          "output_type": "stream",
          "text": [
            "<class 'int'> 5 <class 'str'> AAAA <class 'float'> 0.00023\n"
          ],
          "name": "stdout"
        }
      ]
    },
    {
      "cell_type": "code",
      "metadata": {
        "colab": {
          "base_uri": "https://localhost:8080/"
        },
        "id": "IxvhhDgE-qYs",
        "outputId": "5d7a885f-efec-4f05-e16a-99b4008825d5"
      },
      "source": [
        "x=4\n",
        "y='abhi'\n",
        "c = x + y\n",
        "print(c)"
      ],
      "execution_count": null,
      "outputs": [
        {
          "output_type": "stream",
          "text": [
            "8\n"
          ],
          "name": "stdout"
        }
      ]
    },
    {
      "cell_type": "markdown",
      "metadata": {
        "id": "UIFtJWqwBqIt"
      },
      "source": [
        "#Exercise-1,Exercise-2"
      ]
    },
    {
      "cell_type": "code",
      "metadata": {
        "colab": {
          "base_uri": "https://localhost:8080/"
        },
        "id": "Zif35_MFA-Vo",
        "outputId": "29ab3ef1-eaf1-49bf-a27d-7208758c2119"
      },
      "source": [
        "carname = 'Volvo'\n",
        "print(carname)\n",
        "x=50\n",
        "print(x)"
      ],
      "execution_count": null,
      "outputs": [
        {
          "output_type": "stream",
          "text": [
            "Volvo\n",
            "50\n"
          ],
          "name": "stdout"
        }
      ]
    },
    {
      "cell_type": "markdown",
      "metadata": {
        "id": "T0lucv5tDh7v"
      },
      "source": [
        "#Exercise-3,Exercise-4"
      ]
    },
    {
      "cell_type": "code",
      "metadata": {
        "colab": {
          "base_uri": "https://localhost:8080/"
        },
        "id": "8pTYE8izCkix",
        "outputId": "c303dfcf-2f68-4bb5-c5b8-a95785c8f536"
      },
      "source": [
        "x,y=5,10\n",
        "print(x+y)\n",
        "\n",
        "x,y=11,17\n",
        "z=x+y\n",
        "print(z)"
      ],
      "execution_count": null,
      "outputs": [
        {
          "output_type": "stream",
          "text": [
            "15\n",
            "28\n"
          ],
          "name": "stdout"
        }
      ]
    },
    {
      "cell_type": "code",
      "metadata": {
        "colab": {
          "base_uri": "https://localhost:8080/",
          "height": 195
        },
        "id": "ZTptiE6PEmgq",
        "outputId": "039e94bf-2e7b-41c2-81aa-910f36efb1c6"
      },
      "source": [
        "'''x1 = 'Hello'\n",
        "x2 = 10\n",
        "x3 = 10.2\n",
        "x4 = ['apple','banana','cherry']\n",
        "x5 = ('apple','banana','cherry')\n",
        "x6 = range(6)\n",
        "x7 = {'name':'John','age':18}\n",
        "x8 = {'apple','banana','cherry'}\n",
        "x9 = True'''\n",
        "print(x1,x2,x3,x4,x5,x6,x7,x8,x9,sep=\"\\n\")\n",
        "\n",
        "\n"
      ],
      "execution_count": null,
      "outputs": [
        {
          "output_type": "stream",
          "text": [
            "Hello\n",
            "10\n",
            "10.2\n",
            "['apple', 'banana', 'cherry']\n",
            "('apple', 'banana', 'cherry')\n",
            "range(0, 6)\n",
            "{'name': 'John', 'age': 18}\n",
            "{'banana', 'apple', 'cherry'}\n",
            "True\n"
          ],
          "name": "stdout"
        },
        {
          "output_type": "execute_result",
          "data": {
            "application/vnd.google.colaboratory.intrinsic+json": {
              "type": "string"
            },
            "text/plain": [
              "'print\\nprinty\\nrogedfn\\ngfslsgrs'"
            ]
          },
          "metadata": {
            "tags": []
          },
          "execution_count": 62
        }
      ]
    },
    {
      "cell_type": "code",
      "metadata": {
        "colab": {
          "base_uri": "https://localhost:8080/"
        },
        "id": "W52zgsPdQTwW",
        "outputId": "d8414e2f-5b01-4758-b83f-804d050c9d7c"
      },
      "source": [
        "x = 'jay'\n",
        "print(x)"
      ],
      "execution_count": null,
      "outputs": [
        {
          "output_type": "stream",
          "text": [
            "jay\n"
          ],
          "name": "stdout"
        }
      ]
    },
    {
      "cell_type": "code",
      "metadata": {
        "id": "YzGzS6QGkX_-"
      },
      "source": [
        "''"
      ],
      "execution_count": null,
      "outputs": []
    },
    {
      "cell_type": "code",
      "metadata": {
        "colab": {
          "base_uri": "https://localhost:8080/"
        },
        "id": "V0MachLukMoz",
        "outputId": "66cd78eb-0066-4b2d-e97b-27ecb1cf5b4f"
      },
      "source": [
        "age = 20\n",
        "txt = 'My age is {}'\n",
        "print(txt.format(age))"
      ],
      "execution_count": null,
      "outputs": [
        {
          "output_type": "stream",
          "text": [
            "My age is 20\n"
          ],
          "name": "stdout"
        }
      ]
    },
    {
      "cell_type": "code",
      "metadata": {
        "colab": {
          "base_uri": "https://localhost:8080/"
        },
        "id": "_P3G2U-Q4bi7",
        "outputId": "ca2324ce-dc8f-46c8-bf35-854020f7e0a8"
      },
      "source": [
        "name = 'alvas'\n",
        "print(len(name))\n",
        "print(name[0:4])\n",
        "print(name.upper())\n",
        "print(name + ' college')\n",
        "name = 'alvas {}'\n",
        "b = 'college'\n",
        "print(name.format(b))\n",
        "print(name.isdigit())"
      ],
      "execution_count": 68,
      "outputs": [
        {
          "output_type": "stream",
          "text": [
            "5\n",
            "alva\n",
            "ALVAS\n",
            "alvas college\n",
            "alvas college\n",
            "False\n"
          ],
          "name": "stdout"
        }
      ]
    },
    {
      "cell_type": "code",
      "metadata": {
        "colab": {
          "base_uri": "https://localhost:8080/"
        },
        "id": "08VPxKFJ6jjE",
        "outputId": "dfb48245-afb7-4995-a3e0-759f99cd4f2c"
      },
      "source": [
        "print(10>9)\n",
        "print(10==9)\n",
        "print(4 + 5)\n",
        "x= 5\n",
        "x +=3\n",
        "print(x)"
      ],
      "execution_count": 72,
      "outputs": [
        {
          "output_type": "stream",
          "text": [
            "True\n",
            "False\n",
            "9\n",
            "8\n"
          ],
          "name": "stdout"
        }
      ]
    },
    {
      "cell_type": "code",
      "metadata": {
        "colab": {
          "base_uri": "https://localhost:8080/"
        },
        "id": "qyuVf2vu86Sa",
        "outputId": "a3405584-58d9-4c26-a77b-4cd562361583"
      },
      "source": [
        "x = 3\n",
        "y = 4\n",
        "print(x != y)"
      ],
      "execution_count": 73,
      "outputs": [
        {
          "output_type": "stream",
          "text": [
            "True\n"
          ],
          "name": "stdout"
        }
      ]
    },
    {
      "cell_type": "code",
      "metadata": {
        "colab": {
          "base_uri": "https://localhost:8080/"
        },
        "id": "w8PlQ-Ly90di",
        "outputId": "372baff9-2983-4935-e585-d30ecf87ae2d"
      },
      "source": [
        "a = int(input('Enter the value of a '))\n",
        "b = int(input('Enter the value of b '))\n",
        "print('S4um = ',a + b)\n",
        "print('Sub = ',a - b)\n",
        "print('M =',a * b)\n",
        "print('D =',a / b)\n",
        "print('P = ',a % b)"
      ],
      "execution_count": 80,
      "outputs": [
        {
          "output_type": "stream",
          "text": [
            "Enter the value of a 3\n",
            "Enter the value of b 5\n",
            "S4um =  8\n",
            "Sub =  -2\n",
            "M = 15\n",
            "D = 0.6\n",
            "P =  3\n"
          ],
          "name": "stdout"
        }
      ]
    }
  ]
}