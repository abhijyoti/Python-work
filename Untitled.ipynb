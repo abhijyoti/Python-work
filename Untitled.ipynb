{
  "nbformat": 4,
  "nbformat_minor": 0,
  "metadata": {
    "colab": {
      "name": "Untitled",
      "provenance": [],
      "collapsed_sections": [],
      "authorship_tag": "ABX9TyP5bctLu0GRB+oIVmxASCIg",
      "include_colab_link": true
    },
    "kernelspec": {
      "name": "python3",
      "display_name": "Python 3"
    }
  },
  "cells": [
    {
      "cell_type": "markdown",
      "metadata": {
        "id": "view-in-github",
        "colab_type": "text"
      },
      "source": [
        "<a href=\"https://colab.research.google.com/github/abhijyoti/Python-work/blob/main/Untitled.ipynb\" target=\"_parent\"><img src=\"https://colab.research.google.com/assets/colab-badge.svg\" alt=\"Open In Colab\"/></a>"
      ]
    },
    {
      "cell_type": "markdown",
      "metadata": {
        "id": "DHpEIkOR3uZn"
      },
      "source": [
        "Hello world program"
      ]
    },
    {
      "cell_type": "code",
      "metadata": {
        "id": "1d4XyR1C1qA4",
        "colab": {
          "base_uri": "https://localhost:8080/"
        },
        "outputId": "1c0ef47a-1717-4a4c-aeb3-c7884879ea7c"
      },
      "source": [
        "x=5\n",
        "x='Abhi'\n",
        "print(type(x),x)"
      ],
      "execution_count": null,
      "outputs": [
        {
          "output_type": "stream",
          "text": [
            "<class 'str'> Abhi\n"
          ],
          "name": "stdout"
        }
      ]
    },
    {
      "cell_type": "code",
      "metadata": {
        "colab": {
          "base_uri": "https://localhost:8080/"
        },
        "id": "nOXc2Sq27ls_",
        "outputId": "ed8c50fc-f1dd-48b3-d6ae-1320e6fbc39f"
      },
      "source": [
        "x,y,z=5,'AAAA',0.00023\n",
        "print(type(x),x,type(y),y,type(z),z)"
      ],
      "execution_count": null,
      "outputs": [
        {
          "output_type": "stream",
          "text": [
            "<class 'int'> 5 <class 'str'> AAAA <class 'float'> 0.00023\n"
          ],
          "name": "stdout"
        }
      ]
    },
    {
      "cell_type": "code",
      "metadata": {
        "colab": {
          "base_uri": "https://localhost:8080/"
        },
        "id": "IxvhhDgE-qYs",
        "outputId": "5d7a885f-efec-4f05-e16a-99b4008825d5"
      },
      "source": [
        "x=4\n",
        "y='abhi'\n",
        "c = x + y\n",
        "print(c)"
      ],
      "execution_count": null,
      "outputs": [
        {
          "output_type": "stream",
          "text": [
            "8\n"
          ],
          "name": "stdout"
        }
      ]
    },
    {
      "cell_type": "markdown",
      "metadata": {
        "id": "UIFtJWqwBqIt"
      },
      "source": [
        "#Exercise-1,Exercise-2"
      ]
    },
    {
      "cell_type": "code",
      "metadata": {
        "colab": {
          "base_uri": "https://localhost:8080/"
        },
        "id": "Zif35_MFA-Vo",
        "outputId": "29ab3ef1-eaf1-49bf-a27d-7208758c2119"
      },
      "source": [
        "carname = 'Volvo'\n",
        "print(carname)\n",
        "x=50\n",
        "print(x)"
      ],
      "execution_count": null,
      "outputs": [
        {
          "output_type": "stream",
          "text": [
            "Volvo\n",
            "50\n"
          ],
          "name": "stdout"
        }
      ]
    },
    {
      "cell_type": "markdown",
      "metadata": {
        "id": "T0lucv5tDh7v"
      },
      "source": [
        "#Exercise-3,Exercise-4"
      ]
    },
    {
      "cell_type": "code",
      "metadata": {
        "colab": {
          "base_uri": "https://localhost:8080/"
        },
        "id": "8pTYE8izCkix",
        "outputId": "c303dfcf-2f68-4bb5-c5b8-a95785c8f536"
      },
      "source": [
        "x,y=5,10\n",
        "print(x+y)\n",
        "\n",
        "x,y=11,17\n",
        "z=x+y\n",
        "print(z)"
      ],
      "execution_count": null,
      "outputs": [
        {
          "output_type": "stream",
          "text": [
            "15\n",
            "28\n"
          ],
          "name": "stdout"
        }
      ]
    },
    {
      "cell_type": "code",
      "metadata": {
        "colab": {
          "base_uri": "https://localhost:8080/",
          "height": 195
        },
        "id": "ZTptiE6PEmgq",
        "outputId": "039e94bf-2e7b-41c2-81aa-910f36efb1c6"
      },
      "source": [
        "'''x1 = 'Hello'\n",
        "x2 = 10\n",
        "x3 = 10.2\n",
        "x4 = ['apple','banana','cherry']\n",
        "x5 = ('apple','banana','cherry')\n",
        "x6 = range(6)\n",
        "x7 = {'name':'John','age':18}\n",
        "x8 = {'apple','banana','cherry'}\n",
        "x9 = True'''\n",
        "print(x1,x2,x3,x4,x5,x6,x7,x8,x9,sep=\"\\n\")\n",
        "\n",
        "\n"
      ],
      "execution_count": null,
      "outputs": [
        {
          "output_type": "stream",
          "text": [
            "Hello\n",
            "10\n",
            "10.2\n",
            "['apple', 'banana', 'cherry']\n",
            "('apple', 'banana', 'cherry')\n",
            "range(0, 6)\n",
            "{'name': 'John', 'age': 18}\n",
            "{'banana', 'apple', 'cherry'}\n",
            "True\n"
          ],
          "name": "stdout"
        },
        {
          "output_type": "execute_result",
          "data": {
            "application/vnd.google.colaboratory.intrinsic+json": {
              "type": "string"
            },
            "text/plain": [
              "'print\\nprinty\\nrogedfn\\ngfslsgrs'"
            ]
          },
          "metadata": {
            "tags": []
          },
          "execution_count": 62
        }
      ]
    },
    {
      "cell_type": "code",
      "metadata": {
        "colab": {
          "base_uri": "https://localhost:8080/"
        },
        "id": "W52zgsPdQTwW",
        "outputId": "d8414e2f-5b01-4758-b83f-804d050c9d7c"
      },
      "source": [
        "x = 'jay'\n",
        "print(x)"
      ],
      "execution_count": null,
      "outputs": [
        {
          "output_type": "stream",
          "text": [
            "jay\n"
          ],
          "name": "stdout"
        }
      ]
    },
    {
      "cell_type": "code",
      "metadata": {
        "id": "YzGzS6QGkX_-"
      },
      "source": [
        "''"
      ],
      "execution_count": null,
      "outputs": []
    },
    {
      "cell_type": "code",
      "metadata": {
        "colab": {
          "base_uri": "https://localhost:8080/"
        },
        "id": "V0MachLukMoz",
        "outputId": "66cd78eb-0066-4b2d-e97b-27ecb1cf5b4f"
      },
      "source": [
        "age = 20\n",
        "txt = 'My age is {}'\n",
        "print(txt.format(age))"
      ],
      "execution_count": null,
      "outputs": [
        {
          "output_type": "stream",
          "text": [
            "My age is 20\n"
          ],
          "name": "stdout"
        }
      ]
    },
    {
      "cell_type": "code",
      "metadata": {
        "colab": {
          "base_uri": "https://localhost:8080/"
        },
        "id": "_P3G2U-Q4bi7",
        "outputId": "ca2324ce-dc8f-46c8-bf35-854020f7e0a8"
      },
      "source": [
        "name = 'alvas'\n",
        "print(len(name))\n",
        "print(name[0:4])\n",
        "print(name.upper())\n",
        "print(name + ' college')\n",
        "name = 'alvas {}'\n",
        "b = 'college'\n",
        "print(name.format(b))\n",
        "print(name.isdigit())"
      ],
      "execution_count": null,
      "outputs": [
        {
          "output_type": "stream",
          "text": [
            "5\n",
            "alva\n",
            "ALVAS\n",
            "alvas college\n",
            "alvas college\n",
            "False\n"
          ],
          "name": "stdout"
        }
      ]
    },
    {
      "cell_type": "code",
      "metadata": {
        "colab": {
          "base_uri": "https://localhost:8080/"
        },
        "id": "08VPxKFJ6jjE",
        "outputId": "dfb48245-afb7-4995-a3e0-759f99cd4f2c"
      },
      "source": [
        "print(10>9)\n",
        "print(10==9)\n",
        "print(4 + 5)\n",
        "x= 5\n",
        "x +=3\n",
        "print(x)"
      ],
      "execution_count": null,
      "outputs": [
        {
          "output_type": "stream",
          "text": [
            "True\n",
            "False\n",
            "9\n",
            "8\n"
          ],
          "name": "stdout"
        }
      ]
    },
    {
      "cell_type": "code",
      "metadata": {
        "colab": {
          "base_uri": "https://localhost:8080/"
        },
        "id": "qyuVf2vu86Sa",
        "outputId": "a3405584-58d9-4c26-a77b-4cd562361583"
      },
      "source": [
        "x = 3\n",
        "y = 4\n",
        "print(x != y)"
      ],
      "execution_count": null,
      "outputs": [
        {
          "output_type": "stream",
          "text": [
            "True\n"
          ],
          "name": "stdout"
        }
      ]
    },
    {
      "cell_type": "code",
      "metadata": {
        "colab": {
          "base_uri": "https://localhost:8080/"
        },
        "id": "w8PlQ-Ly90di",
        "outputId": "372baff9-2983-4935-e585-d30ecf87ae2d"
      },
      "source": [
        "a = int(input('Enter the value of a '))\n",
        "b = int(input('Enter the value of b '))\n",
        "print('S4um = ',a + b)\n",
        "print('Sub = ',a - b)\n",
        "print('M =',a * b)\n",
        "print('D =',a / b)\n",
        "print('P = ',a % b)"
      ],
      "execution_count": null,
      "outputs": [
        {
          "output_type": "stream",
          "text": [
            "Enter the value of a 3\n",
            "Enter the value of b 5\n",
            "S4um =  8\n",
            "Sub =  -2\n",
            "M = 15\n",
            "D = 0.6\n",
            "P =  3\n"
          ],
          "name": "stdout"
        }
      ]
    },
    {
      "cell_type": "code",
      "metadata": {
        "colab": {
          "base_uri": "https://localhost:8080/"
        },
        "id": "VjTU9nNDFOOU",
        "outputId": "2b31dba1-2df8-4f7f-b411-29546e139464"
      },
      "source": [
        "l = list(('CSE','ISE','ECE','CIV','MECH'))\n",
        "print(l)\n",
        "print(l[:3])\n",
        "print(l[-3:])"
      ],
      "execution_count": null,
      "outputs": [
        {
          "output_type": "stream",
          "text": [
            "['CSE', 'ISE', 'ECE', 'CIV', 'MECH']\n",
            "['CSE', 'ISE', 'ECE']\n",
            "['ECE', 'CIV', 'MECH']\n"
          ],
          "name": "stdout"
        }
      ]
    },
    {
      "cell_type": "code",
      "metadata": {
        "colab": {
          "base_uri": "https://localhost:8080/"
        },
        "id": "kbEDAEbuFoBW",
        "outputId": "4e0142b6-5ae6-4c19-b58f-4db43869c018"
      },
      "source": [
        "a = ['Apple','banana','cherry']\n",
        "b = ['mango','papaya']\n",
        "\n",
        "c = a + b\n",
        "a.append('Grapes')\n",
        "a.extend(b)\n",
        "print(a)"
      ],
      "execution_count": null,
      "outputs": [
        {
          "output_type": "stream",
          "text": [
            "['Apple', 'banana', 'cherry', 'Grapes', 'mango', 'papaya']\n"
          ],
          "name": "stdout"
        }
      ]
    },
    {
      "cell_type": "code",
      "metadata": {
        "colab": {
          "base_uri": "https://localhost:8080/"
        },
        "id": "8iJg_7shKalb",
        "outputId": "10c1229d-68bc-40f0-f141-3fde301da84b"
      },
      "source": [
        "a = ['apple','cherry']\n",
        "b = ['apple']\n",
        "c = a + b\n",
        "print(c)"
      ],
      "execution_count": null,
      "outputs": [
        {
          "output_type": "stream",
          "text": [
            "['apple', 'cherry', 'apple']\n"
          ],
          "name": "stdout"
        }
      ]
    },
    {
      "cell_type": "code",
      "metadata": {
        "colab": {
          "base_uri": "https://localhost:8080/"
        },
        "id": "QUdkXxvxK8mv",
        "outputId": "68e9607f-19b0-4dd4-c1a2-bb78f4d50313"
      },
      "source": [
        "a = [100,54,85,12,96]\n",
        "a.sort(reverse = True)\n",
        "print(a)"
      ],
      "execution_count": null,
      "outputs": [
        {
          "output_type": "stream",
          "text": [
            "[100, 96, 85, 54, 12]\n"
          ],
          "name": "stdout"
        }
      ]
    },
    {
      "cell_type": "code",
      "metadata": {
        "colab": {
          "base_uri": "https://localhost:8080/"
        },
        "id": "djOhyQ_CM3WT",
        "outputId": "6bf2fa4d-e79b-439b-ebb4-ce6f24f92493"
      },
      "source": [
        "age = ['abhi','opps','deeed']\n",
        "a = [100,54,85,12,96]\n",
        "age.extend(a)\n",
        "print(age)"
      ],
      "execution_count": null,
      "outputs": [
        {
          "output_type": "stream",
          "text": [
            "['abhi', 'opps', 'deeed', 100, 54, 85, 12, 96]\n"
          ],
          "name": "stdout"
        }
      ]
    },
    {
      "cell_type": "code",
      "metadata": {
        "colab": {
          "base_uri": "https://localhost:8080/"
        },
        "id": "Ac-w4nL4Od4v",
        "outputId": "d1835ef2-1bb2-4309-f181-6bbf9efb913d"
      },
      "source": [
        "age = [1,2,3,6]\n",
        "age.append(9)\n",
        "print(age)\n",
        "del age[2]\n",
        "print(age)\n",
        "print(age.count(3))"
      ],
      "execution_count": null,
      "outputs": [
        {
          "output_type": "stream",
          "text": [
            "[1, 2, 3, 6, 9]\n",
            "[1, 2, 6, 9]\n",
            "0\n"
          ],
          "name": "stdout"
        }
      ]
    },
    {
      "cell_type": "code",
      "metadata": {
        "colab": {
          "base_uri": "https://localhost:8080/"
        },
        "id": "iEia0NUqRLGV",
        "outputId": "a2be0b1e-5eeb-4c11-e3a2-a39d1749c9ce"
      },
      "source": [
        "x = ('abhi','opps','deeed')\n",
        "print(type(x))\n",
        "y=list(x)\n",
        "y[1]='kiwi'\n",
        "x = tuple(y)\n",
        "print(y)"
      ],
      "execution_count": null,
      "outputs": [
        {
          "output_type": "stream",
          "text": [
            "<class 'tuple'>\n",
            "['abhi', 'kiwi', 'deeed']\n"
          ],
          "name": "stdout"
        }
      ]
    },
    {
      "cell_type": "code",
      "metadata": {
        "colab": {
          "base_uri": "https://localhost:8080/"
        },
        "id": "r82ht14oSEFk",
        "outputId": "3273af04-0946-4328-f36f-92fd1558f770"
      },
      "source": [
        "fruit= ('apple','banana','cherry')\n",
        "x = list(fruit)\n",
        "x.append('been')\n",
        "y = tuple(fruit)\n",
        "print(y)\n",
        "print(x)"
      ],
      "execution_count": null,
      "outputs": [
        {
          "output_type": "stream",
          "text": [
            "('apple', 'banana', 'cherry')\n",
            "['apple', 'banana', 'cherry', 'been']\n"
          ],
          "name": "stdout"
        }
      ]
    },
    {
      "cell_type": "code",
      "metadata": {
        "id": "uJuX24Pk72NL"
      },
      "source": [
        "student = []\n",
        "student.append(input(\"Enter your name: \"))\n",
        "print(student)\n",
        "student.append(input(\"Enter your USN: \"))\n",
        "print(student)\n",
        "branch = input(\"Enter your Branch: \")\n",
        "phno = int(input(\"Enter your mobile number: \"))\n",
        "sec = input(\"Enter your section: \")\n",
        "student.append(branch)\n",
        "student.append(phno)\n",
        "student.append(sec)\n",
        "print(student)\n",
        "student.reverse()\n",
        "print(student)"
      ],
      "execution_count": null,
      "outputs": []
    }
  ]
}